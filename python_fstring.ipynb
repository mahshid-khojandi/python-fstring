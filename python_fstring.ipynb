{
  "nbformat": 4,
  "nbformat_minor": 0,
  "metadata": {
    "colab": {
      "provenance": [],
      "authorship_tag": "ABX9TyOqwDhonmxmpS/j6Rv8FTGn",
      "include_colab_link": true
    },
    "kernelspec": {
      "name": "python3",
      "display_name": "Python 3"
    },
    "language_info": {
      "name": "python"
    }
  },
  "cells": [
    {
      "cell_type": "markdown",
      "metadata": {
        "id": "view-in-github",
        "colab_type": "text"
      },
      "source": [
        "<a href=\"https://colab.research.google.com/github/mahshid-khojandi/python-fstring/blob/main/python_fstring.ipynb\" target=\"_parent\"><img src=\"https://colab.research.google.com/assets/colab-badge.svg\" alt=\"Open In Colab\"/></a>"
      ]
    },
    {
      "cell_type": "markdown",
      "source": [
        "In Python, **fstring** (Formatted String Literals) is a way to display a combination of strings and variables.\n",
        "\n",
        "In this method, you add the letter **f** to the beginning of the strings and put them in quotation marks to display the variables.\n"
      ],
      "metadata": {
        "id": "OZofmjGSH36e"
      }
    },
    {
      "cell_type": "code",
      "source": [
        "animals = 'eels'\n",
        "print(f'My hovercraft is full of {animals}.')"
      ],
      "metadata": {
        "colab": {
          "base_uri": "https://localhost:8080/"
        },
        "id": "B2VZobyaR8mp",
        "outputId": "a9840f0c-6a5a-4b55-af57-386edaf49ce3"
      },
      "execution_count": 2,
      "outputs": [
        {
          "output_type": "stream",
          "name": "stdout",
          "text": [
            "My hovercraft is full of eels.\n"
          ]
        }
      ]
    },
    {
      "cell_type": "markdown",
      "source": [
        "Passing an integer after the ':' will cause that field to be a minimum number of characters wide. This is useful for making columns line up."
      ],
      "metadata": {
        "id": "JsMTQCofSvbC"
      }
    },
    {
      "cell_type": "code",
      "source": [
        "table = {'Sjoerd': 4127, 'Jack': 4098, 'Dcab': 7678}\n",
        "for name, phone in table.items():\n",
        "    print(f'{name:10} ==> {phone:10d}')"
      ],
      "metadata": {
        "colab": {
          "base_uri": "https://localhost:8080/"
        },
        "id": "ML-n8kxDSv73",
        "outputId": "3b36391e-f13a-47ad-d604-5d4ac8f4fb9b"
      },
      "execution_count": 3,
      "outputs": [
        {
          "output_type": "stream",
          "name": "stdout",
          "text": [
            "Sjoerd     ==>       4127\n",
            "Jack       ==>       4098\n",
            "Dcab       ==>       7678\n"
          ]
        }
      ]
    }
  ]
}